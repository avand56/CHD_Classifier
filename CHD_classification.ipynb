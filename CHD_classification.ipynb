{
 "cells": [
  {
   "cell_type": "markdown",
   "metadata": {},
   "source": [
    "\n"
   ]
  },
  {
   "cell_type": "markdown",
   "metadata": {},
   "source": [
    "## Data set \n",
    "World Health Organization has estimated 12 million deaths occur worldwide, every year due to Heart diseases. Half the deaths in the United States and other developed countries are due to cardio vascular diseases. The early prognosis of cardiovascular diseases can aid in making decisions on lifestyle changes in high risk patients and in turn reduce the complications. This research intends to pinpoint the most relevant/risk factors of heart disease as well as predict the overall risk. \n",
    "\n",
    "### Source\n",
    "The dataset (framingham.csv) is publically available on the Kaggle website, and it is from an ongoing cardiovascular study on residents of the town of Framingham, Massachusetts. The classification goal is to predict whether the patient went on to develop coronary heart disease (CHD) in a 10 year period. The dataset provides the patients’ information. It includes over 4,000 records and 15 attributes.\n",
    "\n",
    "### Variables\n",
    "Each attribute is a potential risk factor. There are both demographic, behavioral and medical risk factors.\n",
    "\n",
    "* male: Indicator variable for biological sex (1:male 0:female)\n",
    "* age: Age of the patient in years \n",
    "* education: Education level. Ordinal variable.c\n",
    "* currentSmoker: whether or not the patient is a current smoker (1:yes 0:no)\n",
    "* cigsPerDay: the number of cigarettes that the person smoked on average in one day\n",
    "* BPMeds: whether or not the patient was on blood pressure medication (1:yes 0:no)\n",
    "* prevalentStroke: whether or not the patient had previously had a stroke \n",
    "* prevalentHyp: whether or not the patient was hypertensive\n",
    "* diabetes: whether or not the patient had diabetes\n",
    "* totChol: total cholesterol level\n",
    "* sysBP: systolic blood pressure\n",
    "* diaBP: diastolic blood pressure\n",
    "* BMI: Body Mass Index\n",
    "* heartRate: heart rate (beats per minute)\n",
    "* glucose: glucose level\n",
    "* TenYearCHD: 10 year risk of coronary heart disease (1: developed signs of CHD in 10 year period, 0: did not develop CHD) "
   ]
  },
  {
   "cell_type": "code",
   "execution_count": 1,
   "metadata": {},
   "outputs": [],
   "source": [
    "import numpy as np\n",
    "import matplotlib.pyplot as plt\n",
    "import pandas as pd\n",
    "import matplotlib.pyplot as plt\n",
    "import seaborn as sns\n",
    "from sklearn.model_selection import train_test_split, cross_val_score, GridSearchCV\n",
    "from sklearn.pipeline import Pipeline\n",
    "from sklearn.linear_model import LogisticRegression\n",
    "from sklearn.metrics import recall_score, make_scorer, confusion_matrix, roc_curve, auc\n",
    "from sklearn.utils.multiclass import unique_labels\n",
    "from sklearn.preprocessing import StandardScaler\n",
    "%matplotlib inline"
   ]
  },
  {
   "cell_type": "markdown",
   "metadata": {},
   "source": [
    "Loading the Dataset framingham.csv *discarding all rows in the data frame that include any NaNs*. \n",
    "\n",
    "Splitting the data into equals-sized training and test sets (using a random_state = 0). \n"
   ]
  },
  {
   "cell_type": "code",
   "execution_count": 2,
   "metadata": {},
   "outputs": [],
   "source": [
    "D=pd.read_csv('framingham.csv')\n",
    "D=D.dropna()"
   ]
  },
  {
   "cell_type": "code",
   "execution_count": 3,
   "metadata": {},
   "outputs": [
    {
     "name": "stdout",
     "output_type": "stream",
     "text": [
      "There are 1828 observations in the training set.\n"
     ]
    }
   ],
   "source": [
    "Dtrain, Dtest = train_test_split(D,test_size=0.5,random_state=0)\n",
    "print('There are',Dtest.shape[0],'observations in the training set.')"
   ]
  },
  {
   "cell_type": "code",
   "execution_count": 4,
   "metadata": {},
   "outputs": [
    {
     "data": {
      "text/plain": [
       "0.1586433260393873"
      ]
     },
     "execution_count": 4,
     "metadata": {},
     "output_type": "execute_result"
    }
   ],
   "source": [
    "# baseline rate\n",
    "Dtest.TenYearCHD.mean()"
   ]
  },
  {
   "cell_type": "markdown",
   "metadata": {},
   "source": [
    "The baseline rate is 14.86%. \n",
    "For a classifier that predicts always 0, the baseline accuracy will be 85.13%, the baseline F1-score will be 0, and baseline Specificity is 1, the baseline Sensitivity is 0, the baseline balanced accuracy is 0.5. "
   ]
  },
  {
   "cell_type": "markdown",
   "metadata": {},
   "source": [
    "# Logisitic regression model (without regularization) based on the demographic variables (male, age, education) only. "
   ]
  },
  {
   "cell_type": "code",
   "execution_count": 5,
   "metadata": {},
   "outputs": [
    {
     "data": {
      "text/plain": [
       "0.698629702564661"
      ]
     },
     "execution_count": 5,
     "metadata": {},
     "output_type": "execute_result"
    }
   ],
   "source": [
    "LR= LogisticRegression(solver='lbfgs',penalty = 'none',max_iter=10000)\n",
    "# Make the design matrix \n",
    "X = np.c_[Dtrain.male,Dtrain.age,Dtrain.education]\n",
    "y = Dtrain.TenYearCHD.values\n",
    "cv_score = cross_val_score(LR,X, y, cv=10, scoring = 'roc_auc')\n",
    "cv_score.mean()"
   ]
  },
  {
   "cell_type": "code",
   "execution_count": 6,
   "metadata": {},
   "outputs": [
    {
     "data": {
      "text/plain": [
       "0.6878287020170084"
      ]
     },
     "execution_count": 6,
     "metadata": {},
     "output_type": "execute_result"
    }
   ],
   "source": [
    "# Make the design matrix \n",
    "X = np.c_[Dtrain.age,Dtrain.education]\n",
    "cv_score = cross_val_score(LR,X, y, cv=10, scoring = 'roc_auc')\n",
    "cv_score.mean()"
   ]
  },
  {
   "cell_type": "code",
   "execution_count": 7,
   "metadata": {},
   "outputs": [
    {
     "data": {
      "text/plain": [
       "0.586653540687511"
      ]
     },
     "execution_count": 7,
     "metadata": {},
     "output_type": "execute_result"
    }
   ],
   "source": [
    "# Make the design matrix \n",
    "X = np.c_[Dtrain.male,Dtrain.education]\n",
    "y = Dtrain.TenYearCHD.values\n",
    "cv_score = cross_val_score(LR,X, y, cv=10, scoring = 'roc_auc')\n",
    "cv_score.mean()"
   ]
  },
  {
   "cell_type": "code",
   "execution_count": 8,
   "metadata": {},
   "outputs": [
    {
     "data": {
      "text/plain": [
       "0.6988113247514276"
      ]
     },
     "execution_count": 8,
     "metadata": {},
     "output_type": "execute_result"
    }
   ],
   "source": [
    "# Make the design matrix \n",
    "X = np.c_[Dtrain.male,Dtrain.age]\n",
    "y = Dtrain.TenYearCHD.values\n",
    "cv_score = cross_val_score(LR,X, y, cv=10, scoring = 'roc_auc')\n",
    "cv_score.mean()"
   ]
  },
  {
   "cell_type": "markdown",
   "metadata": {},
   "source": [
    "Based on the model-based comparision, Age is the most important predictor in this model. Education makes the prediction worse in this case, and can likely be dropped from the model. "
   ]
  },
  {
   "cell_type": "markdown",
   "metadata": {},
   "source": [
    "### Question 5 (7pts)\n",
    "Combine all variables (except the one you want to predict!) into a Logistic regression model without regularization. Using the training set only, determine the average cross-validated log likelihood of the model on the training data, using 10-fold crossvalidation. \n",
    "\n",
    "Hint: The log-likelihood for a single observation $y$ and a predicted probability $\\hat{y}$ is \n",
    "$ log P(y|\\hat{y})= y log(\\hat{y}) + (1-y) log(1-\\hat{y})$ \n",
    "and there is a sklearn scoring method that calculates this quantity:\n",
    "https://scikit-learn.org/stable/modules/model_evaluation.html"
   ]
  },
  {
   "cell_type": "code",
   "execution_count": 9,
   "metadata": {},
   "outputs": [
    {
     "data": {
      "text/plain": [
       "-0.3759114083380509"
      ]
     },
     "execution_count": 9,
     "metadata": {},
     "output_type": "execute_result"
    }
   ],
   "source": [
    "X = Dtrain.drop('TenYearCHD', axis='columns').astype('float').values\n",
    "y = Dtrain.TenYearCHD.values\n",
    "cv_score = cross_val_score(LR,X, y, cv=10, scoring = 'neg_log_loss')\n",
    "cv_score.mean()"
   ]
  },
  {
   "cell_type": "markdown",
   "metadata": {},
   "source": [
    "**Grading: 2 pts for building the correct design matrix, 5pts for calculating the average log-likelihood correctly (i.e. making the correct connection between neg_log_loss and log-likelihood)**"
   ]
  },
  {
   "cell_type": "markdown",
   "metadata": {},
   "source": [
    "## Task 2: Regularized Logisitic regression model (27pts) \n",
    "\n",
    "### Question 1 (8pts)\n",
    "Use L1 regularization to determine the best set of variables to include in a predictive model.\n",
    "Add a penalty of $\\lambda \\sum_{i}{|\\beta_i|_1}$ ($\\beta_i$ are your regression coefficients) to the Logistic regression model. Vary the regularization parameter $\\lambda$ between 0.2 and 200, evenly spaced in log-space. \n",
    "\n",
    "Apply all necessary preprocessing steps to your variables to be able to compare meanfully  between different predictors in the model. \n",
    "\n",
    "Plot the coefficient path, i.e. the size of the regression coefficients relative to the size of the the regularization paramter. Which two variables are the two most important predictors of 10-year risk of CHD?   "
   ]
  },
  {
   "cell_type": "code",
   "execution_count": 10,
   "metadata": {},
   "outputs": [
    {
     "data": {
      "image/png": "[encoded data removed]",
      "text/plain": [
       "<Figure size 720x480 with 1 Axes>"
      ]
     },
     "metadata": {
      "needs_background": "light"
     },
     "output_type": "display_data"
    }
   ],
   "source": [
    "regularization_strength = np.exp(np.linspace(np.log(0.2),np.log(200),50))\n",
    "\n",
    "coefs = np.zeros((regularization_strength.size, X.shape[1]))\n",
    "\n",
    "for i,L in enumerate(regularization_strength):\n",
    "    lasso_pipe = Pipeline([\n",
    "    ('scale', StandardScaler()),\n",
    "    ('logistic_regression', LogisticRegression(penalty = 'l1', \n",
    "                                               solver='liblinear', \n",
    "                                               max_iter=1000,\n",
    "                                               C = 1.0/L)) # Note, C = 1/lambda from question 3\n",
    "    ])\n",
    "    \n",
    "    lasso_pipe.fit(X, y)\n",
    "    coefs[i] = lasso_pipe.named_steps['logistic_regression'].coef_    \n",
    "\n",
    "fig, ax = plt.subplots(dpi = 120)\n",
    "ax.plot(np.log(regularization_strength), coefs)\n",
    "ax.set_xlabel(r'$\\log(\\lambda)$', fontsize = 16)\n",
    "ax.set_ylabel(r'$\\hat{\\beta}$', fontsize = 16)\n",
    "ax.set_title('Coefficient Path', fontsize = 18)\n",
    "ax.set_xlim(-4,None)\n",
    "\n",
    "for i, name in enumerate(D.columns[:-1]):\n",
    "    \n",
    "    ax.annotate(name, xy = (-3, coefs[0,i]), ha = 'left', fontsize = 8)"
   ]
  },
  {
   "cell_type": "markdown",
   "metadata": {},
   "source": [
    "The most important variables are age and systolic blood pressure. "
   ]
  },
  {
   "cell_type": "markdown",
   "metadata": {},
   "source": [
    "**Grading: 2pts Spacing the regularization correctly, 2pts defining the correct models, 2pts Plot with labels, 2pts conclusion**"
   ]
  },
  {
   "cell_type": "markdown",
   "metadata": {},
   "source": [
    "### Question 2 (7pts)\n",
    "Using the same model and the range of regularisation parameters as in T2, Q1, determine the 10-fold crossvalidated performance for different values of the L1-regularisation parameter. Use the cross-validated log-likelihood of the data under the model as evaluation criterion. (If you couldn't calulcate the log-likelihood in Task 1, Question 5, use another suitable evaluation criterion).   \n",
    "\n",
    "Make a plot of the crossvalidated log-likelihood against $log(\\lambda)$. Base on this criterion, what is the optional setting of the L1-regularization parameter? At this value, which variables contribute to the prediction? \n"
   ]
  },
  {
   "cell_type": "code",
   "execution_count": 11,
   "metadata": {},
   "outputs": [
    {
     "data": {
      "text/plain": [
       "Text(0, 0.5, 'likelihood')"
      ]
     },
     "execution_count": 11,
     "metadata": {},
     "output_type": "execute_result"
    },
    {
     "data": {
      "image/png": "[encoded data removed]",
      "text/plain": [
       "<Figure size 720x480 with 1 Axes>"
      ]
     },
     "metadata": {
      "needs_background": "light"
     },
     "output_type": "display_data"
    }
   ],
   "source": [
    "regularization_strength = np.exp(np.linspace(np.log(0.2),np.log(200),50))\n",
    "\n",
    "loglike = np.zeros((regularization_strength.size,))\n",
    "\n",
    "for i,L in enumerate(regularization_strength):\n",
    "    lasso_pipe = Pipeline([\n",
    "    ('scale', StandardScaler()),\n",
    "    ('logistic_regression', LogisticRegression(penalty = 'l1', \n",
    "                                               solver='liblinear', \n",
    "                                               max_iter=1000,\n",
    "                                               C = 1.0/L)) # Note, C = 1/lambda from question 3\n",
    "    ])\n",
    "    \n",
    "    cv_score = cross_val_score(lasso_pipe,X, y, cv=10, scoring = 'neg_log_loss')\n",
    "    loglike[i]= cv_score.mean()\n",
    "\n",
    "fig, ax = plt.subplots(dpi = 120)\n",
    "ax.plot(np.log(regularization_strength), loglike)\n",
    "ax.set_xlabel(r'$\\log(\\lambda)$', fontsize = 16)\n",
    "ax.set_ylabel(r'likelihood', fontsize = 16)\n"
   ]
  },
  {
   "cell_type": "code",
   "execution_count": 12,
   "metadata": {},
   "outputs": [
    {
     "name": "stdout",
     "output_type": "stream",
     "text": [
      "Best lambda: 8.99686533793889\n",
      "Variables included: Index(['male', 'age', 'cigsPerDay', 'BPMeds', 'prevalentStroke',\n",
      "       'prevalentHyp', 'totChol', 'sysBP', 'glucose'],\n",
      "      dtype='object')\n"
     ]
    }
   ],
   "source": [
    "bestI=np.argmax(loglike)\n",
    "print('Best lambda:',regularization_strength[bestI])\n",
    "print('Variables included:',Dtrain.drop('TenYearCHD', axis='columns').columns[coefs[bestI]!=0])"
   ]
  },
  {
   "cell_type": "markdown",
   "metadata": {},
   "source": [
    "**Grading: No subtracted points for carried over mistakes from last question. 2pts for right evaluation, 2pts for plot, 1pts for best lambda, 2pts for correct variables** "
   ]
  },
  {
   "cell_type": "markdown",
   "metadata": {},
   "source": [
    "### Question 3 (6pts)\n",
    "Using the best lambda that you found, fit the L1-regularized model to all the training data and then get the the predicted probability for each item of the test set. \n",
    "\n",
    "Plot the ROC curve for the test set and model.\n",
    "\n",
    "Report the area under the ROC curve. "
   ]
  },
  {
   "cell_type": "code",
   "execution_count": 13,
   "metadata": {},
   "outputs": [
    {
     "data": {
      "text/plain": [
       "Text(0, 0.5, 'True positive rate')"
      ]
     },
     "execution_count": 13,
     "metadata": {},
     "output_type": "execute_result"
    },
    {
     "data": {
      "image/png": "[encoded data removed]",
      "text/plain": [
       "<Figure size 432x288 with 1 Axes>"
      ]
     },
     "metadata": {
      "needs_background": "light"
     },
     "output_type": "display_data"
    }
   ],
   "source": [
    "# Plot ROC Curve\n",
    "Xtest = Dtest.drop('TenYearCHD', axis='columns').astype('float').values\n",
    "ytest = Dtest.TenYearCHD.values\n",
    "\n",
    "lasso_pipe = Pipeline([\n",
    "    ('scale', StandardScaler()),\n",
    "    ('logistic_regression', LogisticRegression(penalty = 'l1', solver='liblinear', \n",
    "                                               max_iter=1000,C = 1.0/8.9968))])\n",
    "\n",
    "Fit = lasso_pipe.fit(X,y)\n",
    "y_pred = Fit.predict_proba(Xtest)\n",
    "y_pred[:,1].mean()\n",
    "fpr, tpr, _ = roc_curve(ytest, y_pred[:,1])\n",
    "ax=sns.lineplot(fpr,tpr)\n",
    "ax.set_xlabel('False positive rate', fontsize = 16)\n",
    "ax.set_ylabel('True positive rate', fontsize = 16)\n"
   ]
  },
  {
   "cell_type": "code",
   "execution_count": 14,
   "metadata": {},
   "outputs": [
    {
     "name": "stdout",
     "output_type": "stream",
     "text": [
      "The area under the ROC curve is 0.7366\n"
     ]
    }
   ],
   "source": [
    "print('The area under the ROC curve is',np.round(auc(fpr,tpr),4))"
   ]
  },
  {
   "cell_type": "markdown",
   "metadata": {},
   "source": [
    "**Grading: 1pt for correctly fitted model, 2 pts for correct probability, 1 pt for roc curve calculation, 1pt for plotting and labels, 1 pt for AUC.** "
   ]
  },
  {
   "cell_type": "markdown",
   "metadata": {},
   "source": [
    "### Question 4 (6pts)\n",
    "Given the resulting ROC-curve, if you wanted your predictive model to have a sensitivity of more than 0.8, what is the best specificity you could achieve on the test set? \n",
    "\n",
    "Provide the 95% confidence interval on the specificity. Note that there are different ways of getting a valid confidence interval, including the normal approximation (central limit theorem) to the binomial distribution or bootstrap (see Lab, week 3 for hints). "
   ]
  },
  {
   "cell_type": "code",
   "execution_count": 15,
   "metadata": {},
   "outputs": [
    {
     "name": "stdout",
     "output_type": "stream",
     "text": [
      "The specificity is  0.526\n"
     ]
    }
   ],
   "source": [
    "# Get lowest FPR for a TPR of above 0.8\n",
    "spec = 1-np.min(fpr[tpr>0.8])\n",
    "print('The specificity is ', np.round(spec,4))"
   ]
  },
  {
   "cell_type": "code",
   "execution_count": 20,
   "metadata": {},
   "outputs": [
    {
     "name": "stdout",
     "output_type": "stream",
     "text": [
      "Norm ci: [0.5010526863311713, 0.5509629183502331]\n"
     ]
    }
   ],
   "source": [
    "# Here I'm using the normal approximation to the binomial distribution\n",
    "# P is 1-FPR\n",
    "# N is the number of class negatives (see Lecture 8, slide 33,34)\n",
    "# For other solutions, see Lab of week 4\n",
    "N = np.sum(ytest==0)\n",
    "stderr =np.sqrt(spec*(1-spec)/N)\n",
    "critval = 1.96\n",
    "norm_ci = [spec - critval*stderr, \n",
    "           spec + critval*stderr]\n",
    "print(f\"Norm ci: {norm_ci}\")"
   ]
  },
  {
   "cell_type": "markdown",
   "metadata": {},
   "source": [
    "**Grading: 3pts for correct specificity, 3pts for CI** "
   ]
  },
  {
   "cell_type": "markdown",
   "metadata": {},
   "source": [
    "## Task 3: Deep learning (26pts)\n",
    "In this task we are looking to see if we can beat the best logistic regression model, using \"deep\" learning.\n",
    "### Question 1 (7 pts)\n",
    "Build a simple linear model with 15 input units for the 15 predictor variables in the CHD data set and two output units for the two output classes (0: no CHD risk, 1: CHD risk). Use a LogSigmoid as your output non-linearity. \n",
    "\n",
    "Use the training data set (task 1, Question 1) to train the network:\n",
    "* Z-standarize your input variables \n",
    "* Use the Cross-entropy loss as a training criterion (same as for logisitic regression) \n",
    "* Use Stochastic gradient descent optimizer with a learning rate of 0.01\n",
    "* Run the optimization for 10000 iterations and record the loss for each iteration \n",
    "* Make a plot of iterations vs. loss "
   ]
  },
  {
   "cell_type": "code",
   "execution_count": 8,
   "metadata": {},
   "outputs": [
    {
     "data": {
      "text/plain": [
       "Text(0, 0.5, 'Cross entropy loss')"
      ]
     },
     "execution_count": 8,
     "metadata": {},
     "output_type": "execute_result"
    },
    {
     "data": {
      "image/png": "[encoded data removed]",
      "text/plain": [
       "<Figure size 432x288 with 1 Axes>"
      ]
     },
     "metadata": {
      "needs_background": "light"
     },
     "output_type": "display_data"
    }
   ],
   "source": [
    "import torch\n",
    "class LinearModel(torch.nn.Module):\n",
    "    \n",
    "    def __init__(self, num_features, num_classes):\n",
    "        \n",
    "        super().__init__()\n",
    "        \n",
    "        # Neural Network Architecture\n",
    "        self.dense1 = torch.nn.Linear(in_features=num_features, out_features=num_classes)\n",
    "        self.activation = torch.nn.LogSigmoid()\n",
    "    \n",
    "    def forward(self, X):\n",
    "        X = self.dense1(X)\n",
    "        X = self.activation(X)\n",
    "        return X\n",
    "\n",
    "\n",
    "X = Dtrain.drop('TenYearCHD', axis='columns').astype('float').values\n",
    "y = Dtrain.TenYearCHD.values\n",
    "scaler = StandardScaler()\n",
    "Xs = scaler.fit_transform(X)\n",
    "model = LinearModel(15,2)\n",
    "Xt = torch.FloatTensor(Xs)\n",
    "yt = torch.LongTensor(y)\n",
    "y_pred = model.forward(Xt)\n",
    "\n",
    "criterion = torch.nn.CrossEntropyLoss()\n",
    "optimizer = torch.optim.SGD(model.parameters(), lr=1e-2)\n",
    "\n",
    "max_iter = 10000\n",
    "lossRecord = np.zeros(max_iter)\n",
    "\n",
    "for i in range(max_iter):\n",
    "    # Intialize the gradient \n",
    "    optimizer.zero_grad()\n",
    "    # Get current \n",
    "    y_pred = model.forward(Xt) # Get a forward pass with gradient \n",
    "    loss = criterion(input=y_pred, target=yt) # Caluculate the loss  \n",
    "    lossRecord[i]=loss\n",
    "    loss.backward() # propagate the derivative backwards \n",
    "    optimizer.step() # Take one updating step\n",
    "\n",
    "plt.plot(np.arange(max_iter),lossRecord)\n",
    "plt.xlabel('Iteration')\n",
    "plt.ylabel('Cross entropy loss')"
   ]
  },
  {
   "cell_type": "markdown",
   "metadata": {},
   "source": [
    "**Grading**\n",
    "* 1pt: Z-standarize your input variables \n",
    "* 2pt: Use the Cross-entropy loss as a training criterion (same as for logisitic regression) \n",
    "* 1pt: Use Stochastic gradient descent optimizer with a learning rate of 0.01\n",
    "* 2pt: Run the optimization for 10000 iterations and record the loss for each iteration \n",
    "* 1pt: Make a plot of iterations vs. loss "
   ]
  },
  {
   "cell_type": "markdown",
   "metadata": {},
   "source": [
    "### Question 2 (8pts)\n",
    "Use the trained network to make a prediction for the test set. Report an area under the ROC curve for the test data set. \n",
    "\n",
    "HINT: To obtain a probability from the output of the network, take the logistic function of the difference between the activities of the two output units. Remember the output unit 0 is high when the model \"thinks\" is class is 0 and the output unit 1 is higher when the model \"thinks\" the class is 1.   "
   ]
  },
  {
   "cell_type": "code",
   "execution_count": 10,
   "metadata": {},
   "outputs": [
    {
     "name": "stdout",
     "output_type": "stream",
     "text": [
      "The area under the ROC curve is 0.7357\n"
     ]
    }
   ],
   "source": [
    "Xtest = Dtest.drop('TenYearCHD', axis='columns').astype('float').values\n",
    "ytest = Dtest.TenYearCHD.values\n",
    "Xtt = torch.FloatTensor(scaler.transform(Xtest))\n",
    "\n",
    "with torch.no_grad():\n",
    "    y_pred = model.forward(Xtt)\n",
    "    \n",
    "yp = y_pred.numpy()\n",
    "p = 1/(1+np.exp(-yp[:,1]+yp[:,0]))\n",
    "\n",
    "fpr, tpr, _ = roc_curve(ytest, p)\n",
    "print('The area under the ROC curve is',np.round(auc(fpr,tpr),4))"
   ]
  },
  {
   "cell_type": "markdown",
   "metadata": {},
   "source": [
    "**Grading: 1pt correct scaling, 1pts correct forward pass, 4pts for correct probability, 2 pts for AUC**  "
   ]
  },
  {
   "cell_type": "markdown",
   "metadata": {},
   "source": [
    "### Question 3 (6pts)\n",
    "Now add a hidden layer with 50 units into the network. Use a LogSigmoid non-linearity for the hidden layer. Leave all the other parameters the same as for Question 1. Again, plot the loss as a function of the iteration. "
   ]
  },
  {
   "cell_type": "code",
   "execution_count": 266,
   "metadata": {},
   "outputs": [
    {
     "data": {
      "text/plain": [
       "[<matplotlib.lines.Line2D at 0x1a25867ad0>]"
      ]
     },
     "execution_count": 266,
     "metadata": {},
     "output_type": "execute_result"
    },
    {
     "data": {
      "image/png": "[encoded data removed]",
      "text/plain": [
       "<Figure size 432x288 with 1 Axes>"
      ]
     },
     "metadata": {
      "needs_background": "light"
     },
     "output_type": "display_data"
    }
   ],
   "source": [
    "class NonLinearModel(torch.nn.Module):\n",
    "    \n",
    "    def __init__(self, num_features, num_classes):\n",
    "        \n",
    "        super().__init__()\n",
    "        \n",
    "        # Neural Network Architecture: 40 hidden units \n",
    "        self.dense1 = torch.nn.Linear(in_features=num_features, out_features=50)\n",
    "        self.activation1 = torch.nn.LogSigmoid()\n",
    "        self.dense2 = torch.nn.Linear(in_features=50, out_features=num_classes)\n",
    "        self.activation2 = torch.nn.LogSigmoid()\n",
    "        \n",
    "    def forward(self, X):\n",
    "        X = self.dense1(X)  \n",
    "        X = self.activation1(X)\n",
    "        X = self.dense2(X)\n",
    "        X = self.activation2(X)\n",
    "        return X\n",
    "    \n",
    "scaler = StandardScaler()\n",
    "Xs = scaler.fit_transform(X)\n",
    "model = NonLinearModel(15,2)\n",
    "Xt = torch.FloatTensor(Xs)\n",
    "yt = torch.LongTensor(y)\n",
    "y_pred = model.forward(Xt)\n",
    "\n",
    "criterion = torch.nn.CrossEntropyLoss()\n",
    "optimizer = torch.optim.SGD(model.parameters(), lr=1e-2)\n",
    "\n",
    "max_iter = 10000\n",
    "lossRecord = np.zeros(max_iter)\n",
    "\n",
    "for i in range(max_iter):\n",
    "    # Intialize the gradient \n",
    "    optimizer.zero_grad()\n",
    "    # Get current \n",
    "    y_pred = model.forward(Xt) # Get a forward pass with gradient \n",
    "    loss = criterion(input=y_pred, target=yt) # Caluculate the loss  \n",
    "    lossRecord[i]=loss\n",
    "    loss.backward() # propagate the derivative backwards \n",
    "    optimizer.step() # Take one updating step\n",
    "\n",
    "plt.plot(np.arange(max_iter),lossRecord)"
   ]
  },
  {
   "cell_type": "markdown",
   "metadata": {},
   "source": [
    "**Grading**\n",
    "* 2pts: Nonlinearity correctly  \n",
    "* 2pt: Hidden layer correctly specified \n",
    "* 1pt: Training correct \n",
    "* 1pt: Plot (+ correct labels)  "
   ]
  },
  {
   "cell_type": "markdown",
   "metadata": {},
   "source": [
    "### Question 4 (5pts)\n",
    "As for Question 2, report the area under the ROC curve for this network on the test set. \n",
    "\n",
    "Written answer: What do you conclude? "
   ]
  },
  {
   "cell_type": "code",
   "execution_count": 267,
   "metadata": {},
   "outputs": [
    {
     "name": "stdout",
     "output_type": "stream",
     "text": [
      "The area under the ROC curve is 0.7296\n"
     ]
    }
   ],
   "source": [
    "Xtt = torch.FloatTensor(scaler.transform(Xtest))\n",
    "\n",
    "with torch.no_grad():\n",
    "    y_pred = model.forward(Xtt)\n",
    "    \n",
    "yp = y_pred.numpy()\n",
    "p = 1/(1+np.exp(-yp[:,1]+yp[:,0]))\n",
    "\n",
    "fpr, tpr, _ = roc_curve(ytest, p)\n",
    "print('The area under the ROC curve is',np.round(auc(fpr,tpr),4))"
   ]
  },
  {
   "cell_type": "markdown",
   "metadata": {},
   "source": [
    "Even though the network has the capacity to learn non-linear interaction between some of the variables, it did not do appreciably better than the linear model. This could mean that there are no non-linear interactions present in the data, or that a deeper network is needed to reveal them.  "
   ]
  }
 ],
 "metadata": {
  "kernelspec": {
   "display_name": "Python [conda env:anaconda3-Data_sci]",
   "language": "python",
   "name": "conda-env-anaconda3-Data_sci-py"
  },
  "language_info": {
   "codemirror_mode": {
    "name": "ipython",
    "version": 3
   },
   "file_extension": ".py",
   "mimetype": "text/x-python",
   "name": "python",
   "nbconvert_exporter": "python",
   "pygments_lexer": "ipython3",
   "version": "3.6.12"
  }
 },
 "nbformat": 4,
 "nbformat_minor": 4
}
